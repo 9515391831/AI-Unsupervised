{
 "cells": [
  {
   "cell_type": "code",
   "execution_count": 1,
   "metadata": {},
   "outputs": [],
   "source": [
    "import numpy as np\n",
    "import pandas as pd\n",
    "import matplotlib.pyplot as plt\n",
    "%matplotlib inline\n",
    "import seaborn as sns"
   ]
  },
  {
   "cell_type": "code",
   "execution_count": 2,
   "metadata": {},
   "outputs": [
    {
     "data": {
      "text/plain": [
       "array([[ 1,  4],\n",
       "       [ 4,  8],\n",
       "       [ 3,  7],\n",
       "       [ 8,  3],\n",
       "       [ 2, 10]])"
      ]
     },
     "execution_count": 2,
     "metadata": {},
     "output_type": "execute_result"
    }
   ],
   "source": [
    "a=np.array([[1,4],[4,8],[3,7],[8,3],[2,10]])\n",
    "a"
   ]
  },
  {
   "cell_type": "code",
   "execution_count": 3,
   "metadata": {},
   "outputs": [],
   "source": [
    "# Plot before dividing into clusters:"
   ]
  },
  {
   "cell_type": "code",
   "execution_count": 4,
   "metadata": {},
   "outputs": [
    {
     "data": {
      "text/plain": [
       "<matplotlib.collections.PathCollection at 0x1900da43fa0>"
      ]
     },
     "execution_count": 4,
     "metadata": {},
     "output_type": "execute_result"
    },
    {
     "data": {
      "image/png": "[encoded data removed]",
      "text/plain": [
       "<Figure size 432x288 with 1 Axes>"
      ]
     },
     "metadata": {
      "needs_background": "light"
     },
     "output_type": "display_data"
    }
   ],
   "source": [
    "plt.scatter(a[:,0],a[:,1],color=\"red\")"
   ]
  },
  {
   "cell_type": "code",
   "execution_count": 5,
   "metadata": {},
   "outputs": [],
   "source": [
    "# <--------->"
   ]
  },
  {
   "cell_type": "code",
   "execution_count": 6,
   "metadata": {},
   "outputs": [],
   "source": [
    "from sklearn.cluster import KMeans"
   ]
  },
  {
   "cell_type": "code",
   "execution_count": 7,
   "metadata": {},
   "outputs": [
    {
     "data": {
      "text/plain": [
       "KMeans(n_clusters=4)"
      ]
     },
     "execution_count": 7,
     "metadata": {},
     "output_type": "execute_result"
    }
   ],
   "source": [
    "kmeans=KMeans(n_clusters=4)\n",
    "kmeans.fit(a)"
   ]
  },
  {
   "cell_type": "code",
   "execution_count": 8,
   "metadata": {},
   "outputs": [
    {
     "data": {
      "text/plain": [
       "array([1, 0, 0, 2, 3])"
      ]
     },
     "execution_count": 8,
     "metadata": {},
     "output_type": "execute_result"
    }
   ],
   "source": [
    "kmeans.labels_"
   ]
  },
  {
   "cell_type": "code",
   "execution_count": 9,
   "metadata": {},
   "outputs": [
    {
     "data": {
      "text/plain": [
       "array([[ 3.5,  7.5],\n",
       "       [ 1. ,  4. ],\n",
       "       [ 8. ,  3. ],\n",
       "       [ 2. , 10. ]])"
      ]
     },
     "execution_count": 9,
     "metadata": {},
     "output_type": "execute_result"
    }
   ],
   "source": [
    "kmeans.cluster_centers_"
   ]
  },
  {
   "cell_type": "code",
   "execution_count": 10,
   "metadata": {},
   "outputs": [
    {
     "data": {
      "text/plain": [
       "array([3, 2, 2, 1, 0])"
      ]
     },
     "execution_count": 10,
     "metadata": {},
     "output_type": "execute_result"
    }
   ],
   "source": [
    "kmeans.fit_predict(a)"
   ]
  },
  {
   "cell_type": "code",
   "execution_count": 11,
   "metadata": {},
   "outputs": [
    {
     "data": {
      "text/plain": [
       "array([[0.        , 4.30116263, 7.07106781, 6.08276253],\n",
       "       [5.        , 0.70710678, 6.40312424, 2.82842712],\n",
       "       [3.60555128, 0.70710678, 6.40312424, 3.16227766],\n",
       "       [7.07106781, 6.36396103, 0.        , 9.21954446],\n",
       "       [6.08276253, 2.91547595, 9.21954446, 0.        ]])"
      ]
     },
     "execution_count": 11,
     "metadata": {},
     "output_type": "execute_result"
    }
   ],
   "source": [
    "kmeans.fit_transform(a)"
   ]
  },
  {
   "cell_type": "code",
   "execution_count": 12,
   "metadata": {},
   "outputs": [],
   "source": [
    "# Plot after dividing into no.of clusters:"
   ]
  },
  {
   "cell_type": "code",
   "execution_count": 13,
   "metadata": {},
   "outputs": [
    {
     "data": {
      "text/plain": [
       "<matplotlib.collections.PathCollection at 0x1900e11f0d0>"
      ]
     },
     "execution_count": 13,
     "metadata": {},
     "output_type": "execute_result"
    },
    {
     "data": {
      "image/png": "[encoded data removed]",
      "text/plain": [
       "<Figure size 432x288 with 1 Axes>"
      ]
     },
     "metadata": {
      "needs_background": "light"
     },
     "output_type": "display_data"
    }
   ],
   "source": [
    "plt.scatter(a[:,0],a[:,1],c=kmeans.labels_,cmap='rainbow')"
   ]
  },
  {
   "cell_type": "code",
   "execution_count": 14,
   "metadata": {},
   "outputs": [
    {
     "data": {
      "text/plain": [
       "'\\n\\n\\nPlot after dividing the data into clusters with their centroids\\n\\nHere in the below plot black dots denoted to centroids\\n\\nNo.of centroids = No.of clusters divided\\n\\nHere we have divided the data into 4 clusters so the no.of centroids are 4.\\n\\n\\n'"
      ]
     },
     "execution_count": 14,
     "metadata": {},
     "output_type": "execute_result"
    }
   ],
   "source": [
    "'''\n",
    "\n",
    "\n",
    "Plot after dividing the data into clusters with their centroids\n",
    "\n",
    "Here in the below plot black dots denoted to centroids\n",
    "\n",
    "No.of centroids = No.of clusters divided\n",
    "\n",
    "Here we have divided the data into 4 clusters so the no.of centroids are 4.\n",
    "\n",
    "\n",
    "'''"
   ]
  },
  {
   "cell_type": "code",
   "execution_count": 15,
   "metadata": {},
   "outputs": [
    {
     "data": {
      "text/plain": [
       "<matplotlib.collections.PathCollection at 0x1900e59eb50>"
      ]
     },
     "execution_count": 15,
     "metadata": {},
     "output_type": "execute_result"
    },
    {
     "data": {
      "image/png": "[encoded data removed]",
      "text/plain": [
       "<Figure size 432x288 with 1 Axes>"
      ]
     },
     "metadata": {
      "needs_background": "light"
     },
     "output_type": "display_data"
    }
   ],
   "source": [
    "plt.scatter(a[:,0],a[:,1],c=kmeans.labels_,cmap='rainbow')\n",
    "plt.scatter(kmeans.cluster_centers_[:,0] ,kmeans.cluster_centers_[:,1], color='black')"
   ]
  },
  {
   "cell_type": "markdown",
   "metadata": {},
   "source": [
    "# Elbow method:"
   ]
  },
  {
   "cell_type": "code",
   "execution_count": 17,
   "metadata": {},
   "outputs": [],
   "source": [
    "# There is a popular method known as elbow method which is used to determine the optimal value of K to perform the K-Means Clustering Algorithm.\n",
    "\n",
    "# This method choose the best value of k(no.of clusters) for the given data."
   ]
  },
  {
   "cell_type": "code",
   "execution_count": 18,
   "metadata": {},
   "outputs": [
    {
     "data": {
      "image/png": "[encoded data removed]",
      "text/plain": [
       "<Figure size 432x288 with 1 Axes>"
      ]
     },
     "metadata": {
      "needs_background": "light"
     },
     "output_type": "display_data"
    }
   ],
   "source": [
    "c =[] \n",
    "for i in range(1, 6): \n",
    "    KM = KMeans(n_clusters = i, max_iter = 500) \n",
    "    KM.fit(a) \n",
    "    c.append(KM.inertia_)      \n",
    "  \n",
    "plt.plot(range(1, 6), c, color ='grey', linewidth ='4') \n",
    "plt.xlabel(\"Value of K\") \n",
    "plt.ylabel(\"Sqaured Error (Cost)\")\n",
    "plt.title(\"elbow method\")\n",
    "plt.show()"
   ]
  },
  {
   "cell_type": "code",
   "execution_count": 19,
   "metadata": {},
   "outputs": [],
   "source": [
    "# In the above plot elbow is formed at k=4. So the optimum value of k for the given data(a) is 4."
   ]
  },
  {
   "cell_type": "code",
   "execution_count": 20,
   "metadata": {},
   "outputs": [],
   "source": [
    "# <--------->"
   ]
  },
  {
   "cell_type": "code",
   "execution_count": null,
   "metadata": {},
   "outputs": [],
   "source": []
  },
  {
   "cell_type": "code",
   "execution_count": null,
   "metadata": {},
   "outputs": [],
   "source": []
  },
  {
   "cell_type": "markdown",
   "metadata": {},
   "source": [
    "# Using dataset"
   ]
  },
  {
   "cell_type": "code",
   "execution_count": 21,
   "metadata": {},
   "outputs": [
    {
     "data": {
      "text/plain": [
       "'C:\\\\Users\\\\hi\\\\Documents\\\\Artificial Intelligence'"
      ]
     },
     "execution_count": 21,
     "metadata": {},
     "output_type": "execute_result"
    }
   ],
   "source": [
    "pwd"
   ]
  },
  {
   "cell_type": "code",
   "execution_count": 22,
   "metadata": {},
   "outputs": [
    {
     "data": {
      "text/html": [
       "<div>\n",
       "<style scoped>\n",
       "    .dataframe tbody tr th:only-of-type {\n",
       "        vertical-align: middle;\n",
       "    }\n",
       "\n",
       "    .dataframe tbody tr th {\n",
       "        vertical-align: top;\n",
       "    }\n",
       "\n",
       "    .dataframe thead th {\n",
       "        text-align: right;\n",
       "    }\n",
       "</style>\n",
       "<table border=\"1\" class=\"dataframe\">\n",
       "  <thead>\n",
       "    <tr style=\"text-align: right;\">\n",
       "      <th></th>\n",
       "      <th>Id</th>\n",
       "      <th>SepalLengthCm</th>\n",
       "      <th>SepalWidthCm</th>\n",
       "      <th>PetalLengthCm</th>\n",
       "      <th>PetalWidthCm</th>\n",
       "      <th>Species</th>\n",
       "    </tr>\n",
       "  </thead>\n",
       "  <tbody>\n",
       "    <tr>\n",
       "      <th>0</th>\n",
       "      <td>1</td>\n",
       "      <td>5.1</td>\n",
       "      <td>3.5</td>\n",
       "      <td>1.4</td>\n",
       "      <td>0.2</td>\n",
       "      <td>Iris-setosa</td>\n",
       "    </tr>\n",
       "    <tr>\n",
       "      <th>1</th>\n",
       "      <td>2</td>\n",
       "      <td>4.9</td>\n",
       "      <td>3.0</td>\n",
       "      <td>1.4</td>\n",
       "      <td>0.2</td>\n",
       "      <td>Iris-setosa</td>\n",
       "    </tr>\n",
       "    <tr>\n",
       "      <th>2</th>\n",
       "      <td>3</td>\n",
       "      <td>4.7</td>\n",
       "      <td>3.2</td>\n",
       "      <td>1.3</td>\n",
       "      <td>0.2</td>\n",
       "      <td>Iris-setosa</td>\n",
       "    </tr>\n",
       "    <tr>\n",
       "      <th>3</th>\n",
       "      <td>4</td>\n",
       "      <td>4.6</td>\n",
       "      <td>3.1</td>\n",
       "      <td>1.5</td>\n",
       "      <td>0.2</td>\n",
       "      <td>Iris-setosa</td>\n",
       "    </tr>\n",
       "    <tr>\n",
       "      <th>4</th>\n",
       "      <td>5</td>\n",
       "      <td>5.0</td>\n",
       "      <td>3.6</td>\n",
       "      <td>1.4</td>\n",
       "      <td>0.2</td>\n",
       "      <td>Iris-setosa</td>\n",
       "    </tr>\n",
       "  </tbody>\n",
       "</table>\n",
       "</div>"
      ],
      "text/plain": [
       "   Id  SepalLengthCm  SepalWidthCm  PetalLengthCm  PetalWidthCm      Species\n",
       "0   1            5.1           3.5            1.4           0.2  Iris-setosa\n",
       "1   2            4.9           3.0            1.4           0.2  Iris-setosa\n",
       "2   3            4.7           3.2            1.3           0.2  Iris-setosa\n",
       "3   4            4.6           3.1            1.5           0.2  Iris-setosa\n",
       "4   5            5.0           3.6            1.4           0.2  Iris-setosa"
      ]
     },
     "execution_count": 22,
     "metadata": {},
     "output_type": "execute_result"
    }
   ],
   "source": [
    "#reading the given data\n",
    "ds = pd.read_csv(r\"C:\\Users\\hi\\Downloads\\Iris.csv\")\n",
    "ds.head()"
   ]
  },
  {
   "cell_type": "code",
   "execution_count": 23,
   "metadata": {},
   "outputs": [
    {
     "data": {
      "text/plain": [
       "Index(['Id', 'SepalLengthCm', 'SepalWidthCm', 'PetalLengthCm', 'PetalWidthCm',\n",
       "       'Species'],\n",
       "      dtype='object')"
      ]
     },
     "execution_count": 23,
     "metadata": {},
     "output_type": "execute_result"
    }
   ],
   "source": [
    "ds.columns"
   ]
  },
  {
   "cell_type": "code",
   "execution_count": 24,
   "metadata": {},
   "outputs": [],
   "source": [
    "from sklearn.cluster import KMeans"
   ]
  },
  {
   "cell_type": "code",
   "execution_count": 25,
   "metadata": {},
   "outputs": [],
   "source": [
    "x=ds['PetalLengthCm'].values.reshape(-1,1)\n",
    "y=ds['PetalWidthCm'].values.reshape(-1,1)"
   ]
  },
  {
   "cell_type": "code",
   "execution_count": 26,
   "metadata": {},
   "outputs": [
    {
     "data": {
      "text/plain": [
       "<matplotlib.collections.PathCollection at 0x1900e6be910>"
      ]
     },
     "execution_count": 26,
     "metadata": {},
     "output_type": "execute_result"
    },
    {
     "data": {
      "image/png": "[encoded data removed]",
      "text/plain": [
       "<Figure size 432x288 with 1 Axes>"
      ]
     },
     "metadata": {
      "needs_background": "light"
     },
     "output_type": "display_data"
    }
   ],
   "source": [
    "plt.scatter(x,y)"
   ]
  },
  {
   "cell_type": "code",
   "execution_count": 27,
   "metadata": {},
   "outputs": [
    {
     "data": {
      "text/plain": [
       "KMeans(n_clusters=3)"
      ]
     },
     "execution_count": 27,
     "metadata": {},
     "output_type": "execute_result"
    }
   ],
   "source": [
    "km=KMeans(n_clusters=3)\n",
    "km.fit(x,y)"
   ]
  },
  {
   "cell_type": "code",
   "execution_count": 28,
   "metadata": {},
   "outputs": [
    {
     "data": {
      "text/plain": [
       "array([1, 1, 1, 1, 1, 1, 1, 1, 1, 1, 1, 1, 1, 1, 1, 1, 1, 1, 1, 1, 1, 1,\n",
       "       1, 1, 1, 1, 1, 1, 1, 1, 1, 1, 1, 1, 1, 1, 1, 1, 1, 1, 1, 1, 1, 1,\n",
       "       1, 1, 1, 1, 1, 1, 2, 2, 2, 2, 2, 2, 2, 2, 2, 2, 2, 2, 2, 2, 2, 2,\n",
       "       2, 2, 2, 2, 2, 2, 2, 2, 2, 2, 2, 0, 2, 2, 2, 2, 2, 0, 2, 2, 2, 2,\n",
       "       2, 2, 2, 2, 2, 2, 2, 2, 2, 2, 2, 2, 0, 0, 0, 0, 0, 0, 2, 0, 0, 0,\n",
       "       0, 0, 0, 0, 0, 0, 0, 0, 0, 0, 0, 2, 0, 2, 0, 0, 2, 2, 0, 0, 0, 0,\n",
       "       0, 0, 0, 0, 0, 0, 2, 0, 0, 0, 0, 0, 0, 0, 0, 0, 0, 0])"
      ]
     },
     "execution_count": 28,
     "metadata": {},
     "output_type": "execute_result"
    }
   ],
   "source": [
    "z=km.fit_predict(x)\n",
    "z"
   ]
  },
  {
   "cell_type": "code",
   "execution_count": 32,
   "metadata": {},
   "outputs": [
    {
     "data": {
      "text/plain": [
       "array([[4.28809524, 0.064     , 2.93965517],\n",
       "       [4.38809524, 0.164     , 3.03965517],\n",
       "       [4.18809524, 0.036     , 2.83965517],\n",
       "       [4.28809524, 0.064     , 2.93965517],\n",
       "       [3.98809524, 0.236     , 2.63965517],\n",
       "       [4.28809524, 0.064     , 2.93965517],\n",
       "       [4.18809524, 0.036     , 2.83965517],\n",
       "       [4.28809524, 0.064     , 2.93965517],\n",
       "       [4.18809524, 0.036     , 2.83965517],\n",
       "       [4.18809524, 0.036     , 2.83965517]])"
      ]
     },
     "execution_count": 32,
     "metadata": {},
     "output_type": "execute_result"
    }
   ],
   "source": [
    "km.fit_transform(x)[1:11]"
   ]
  },
  {
   "cell_type": "code",
   "execution_count": 30,
   "metadata": {},
   "outputs": [
    {
     "data": {
      "text/plain": [
       "array([1, 1, 1, 1, 1, 1, 1, 1, 1, 1, 1, 1, 1, 1, 1, 1, 1, 1, 1, 1, 1, 1,\n",
       "       1, 1, 1, 1, 1, 1, 1, 1, 1, 1, 1, 1, 1, 1, 1, 1, 1, 1, 1, 1, 1, 1,\n",
       "       1, 1, 1, 1, 1, 1, 2, 2, 0, 2, 2, 2, 2, 2, 2, 2, 2, 2, 2, 2, 2, 2,\n",
       "       2, 2, 2, 2, 2, 2, 0, 2, 2, 2, 2, 0, 2, 2, 2, 2, 2, 0, 2, 2, 2, 2,\n",
       "       2, 2, 2, 2, 2, 2, 2, 2, 2, 2, 2, 2, 0, 0, 0, 0, 0, 0, 2, 0, 0, 0,\n",
       "       0, 0, 0, 0, 0, 0, 0, 0, 0, 0, 0, 0, 0, 0, 0, 0, 2, 0, 0, 0, 0, 0,\n",
       "       0, 0, 0, 0, 0, 0, 2, 0, 0, 0, 0, 0, 0, 0, 0, 0, 0, 0])"
      ]
     },
     "execution_count": 30,
     "metadata": {},
     "output_type": "execute_result"
    }
   ],
   "source": [
    "km.labels_"
   ]
  },
  {
   "cell_type": "code",
   "execution_count": 33,
   "metadata": {},
   "outputs": [
    {
     "data": {
      "text/plain": [
       "array([[5.68809524],\n",
       "       [1.464     ],\n",
       "       [4.33965517]])"
      ]
     },
     "execution_count": 33,
     "metadata": {},
     "output_type": "execute_result"
    }
   ],
   "source": [
    "km.cluster_centers_"
   ]
  },
  {
   "cell_type": "code",
   "execution_count": 34,
   "metadata": {},
   "outputs": [
    {
     "data": {
      "text/plain": [
       "<matplotlib.collections.PathCollection at 0x1900e719610>"
      ]
     },
     "execution_count": 34,
     "metadata": {},
     "output_type": "execute_result"
    },
    {
     "data": {
      "image/png": "[encoded data removed]",
      "text/plain": [
       "<Figure size 432x288 with 1 Axes>"
      ]
     },
     "metadata": {
      "needs_background": "light"
     },
     "output_type": "display_data"
    }
   ],
   "source": [
    "plt.scatter(x,y,c=km.labels_,cmap='rainbow')"
   ]
  },
  {
   "cell_type": "code",
   "execution_count": null,
   "metadata": {},
   "outputs": [],
   "source": []
  },
  {
   "cell_type": "code",
   "execution_count": 35,
   "metadata": {},
   "outputs": [],
   "source": [
    "# Another way"
   ]
  },
  {
   "cell_type": "code",
   "execution_count": 38,
   "metadata": {},
   "outputs": [
    {
     "data": {
      "text/plain": [
       "array([[[[1.4],\n",
       "         [1.4],\n",
       "         [1.3],\n",
       "         [1.5],\n",
       "         [1.4],\n",
       "         [1.7],\n",
       "         [1.4],\n",
       "         [1.5],\n",
       "         [1.4],\n",
       "         [1.5],\n",
       "         [1.5],\n",
       "         [1.6],\n",
       "         [1.4],\n",
       "         [1.1],\n",
       "         [1.2],\n",
       "         [1.5],\n",
       "         [1.3],\n",
       "         [1.4],\n",
       "         [1.7],\n",
       "         [1.5],\n",
       "         [1.7],\n",
       "         [1.5],\n",
       "         [1. ],\n",
       "         [1.7],\n",
       "         [1.9],\n",
       "         [1.6],\n",
       "         [1.6],\n",
       "         [1.5],\n",
       "         [1.4],\n",
       "         [1.6],\n",
       "         [1.6],\n",
       "         [1.5],\n",
       "         [1.5],\n",
       "         [1.4],\n",
       "         [1.5],\n",
       "         [1.2],\n",
       "         [1.3],\n",
       "         [1.5],\n",
       "         [1.3],\n",
       "         [1.5],\n",
       "         [1.3],\n",
       "         [1.3],\n",
       "         [1.3],\n",
       "         [1.6],\n",
       "         [1.9],\n",
       "         [1.4],\n",
       "         [1.6],\n",
       "         [1.4],\n",
       "         [1.5],\n",
       "         [1.4],\n",
       "         [4.7],\n",
       "         [4.5],\n",
       "         [4.9],\n",
       "         [4. ],\n",
       "         [4.6],\n",
       "         [4.5],\n",
       "         [4.7],\n",
       "         [3.3],\n",
       "         [4.6],\n",
       "         [3.9],\n",
       "         [3.5],\n",
       "         [4.2],\n",
       "         [4. ],\n",
       "         [4.7],\n",
       "         [3.6],\n",
       "         [4.4],\n",
       "         [4.5],\n",
       "         [4.1],\n",
       "         [4.5],\n",
       "         [3.9],\n",
       "         [4.8],\n",
       "         [4. ],\n",
       "         [4.9],\n",
       "         [4.7],\n",
       "         [4.3],\n",
       "         [4.4],\n",
       "         [4.8],\n",
       "         [5. ],\n",
       "         [4.5],\n",
       "         [3.5],\n",
       "         [3.8],\n",
       "         [3.7],\n",
       "         [3.9],\n",
       "         [5.1],\n",
       "         [4.5],\n",
       "         [4.5],\n",
       "         [4.7],\n",
       "         [4.4],\n",
       "         [4.1],\n",
       "         [4. ],\n",
       "         [4.4],\n",
       "         [4.6],\n",
       "         [4. ],\n",
       "         [3.3],\n",
       "         [4.2],\n",
       "         [4.2],\n",
       "         [4.2],\n",
       "         [4.3],\n",
       "         [3. ],\n",
       "         [4.1],\n",
       "         [6. ],\n",
       "         [5.1],\n",
       "         [5.9],\n",
       "         [5.6],\n",
       "         [5.8],\n",
       "         [6.6],\n",
       "         [4.5],\n",
       "         [6.3],\n",
       "         [5.8],\n",
       "         [6.1],\n",
       "         [5.1],\n",
       "         [5.3],\n",
       "         [5.5],\n",
       "         [5. ],\n",
       "         [5.1],\n",
       "         [5.3],\n",
       "         [5.5],\n",
       "         [6.7],\n",
       "         [6.9],\n",
       "         [5. ],\n",
       "         [5.7],\n",
       "         [4.9],\n",
       "         [6.7],\n",
       "         [4.9],\n",
       "         [5.7],\n",
       "         [6. ],\n",
       "         [4.8],\n",
       "         [4.9],\n",
       "         [5.6],\n",
       "         [5.8],\n",
       "         [6.1],\n",
       "         [6.4],\n",
       "         [5.6],\n",
       "         [5.1],\n",
       "         [5.6],\n",
       "         [6.1],\n",
       "         [5.6],\n",
       "         [5.5],\n",
       "         [4.8],\n",
       "         [5.4],\n",
       "         [5.6],\n",
       "         [5.1],\n",
       "         [5.1],\n",
       "         [5.9],\n",
       "         [5.7],\n",
       "         [5.2],\n",
       "         [5. ],\n",
       "         [5.2],\n",
       "         [5.4],\n",
       "         [5.1]],\n",
       "\n",
       "        [[0.2],\n",
       "         [0.2],\n",
       "         [0.2],\n",
       "         [0.2],\n",
       "         [0.2],\n",
       "         [0.4],\n",
       "         [0.3],\n",
       "         [0.2],\n",
       "         [0.2],\n",
       "         [0.1],\n",
       "         [0.2],\n",
       "         [0.2],\n",
       "         [0.1],\n",
       "         [0.1],\n",
       "         [0.2],\n",
       "         [0.4],\n",
       "         [0.4],\n",
       "         [0.3],\n",
       "         [0.3],\n",
       "         [0.3],\n",
       "         [0.2],\n",
       "         [0.4],\n",
       "         [0.2],\n",
       "         [0.5],\n",
       "         [0.2],\n",
       "         [0.2],\n",
       "         [0.4],\n",
       "         [0.2],\n",
       "         [0.2],\n",
       "         [0.2],\n",
       "         [0.2],\n",
       "         [0.4],\n",
       "         [0.1],\n",
       "         [0.2],\n",
       "         [0.1],\n",
       "         [0.2],\n",
       "         [0.2],\n",
       "         [0.1],\n",
       "         [0.2],\n",
       "         [0.2],\n",
       "         [0.3],\n",
       "         [0.3],\n",
       "         [0.2],\n",
       "         [0.6],\n",
       "         [0.4],\n",
       "         [0.3],\n",
       "         [0.2],\n",
       "         [0.2],\n",
       "         [0.2],\n",
       "         [0.2],\n",
       "         [1.4],\n",
       "         [1.5],\n",
       "         [1.5],\n",
       "         [1.3],\n",
       "         [1.5],\n",
       "         [1.3],\n",
       "         [1.6],\n",
       "         [1. ],\n",
       "         [1.3],\n",
       "         [1.4],\n",
       "         [1. ],\n",
       "         [1.5],\n",
       "         [1. ],\n",
       "         [1.4],\n",
       "         [1.3],\n",
       "         [1.4],\n",
       "         [1.5],\n",
       "         [1. ],\n",
       "         [1.5],\n",
       "         [1.1],\n",
       "         [1.8],\n",
       "         [1.3],\n",
       "         [1.5],\n",
       "         [1.2],\n",
       "         [1.3],\n",
       "         [1.4],\n",
       "         [1.4],\n",
       "         [1.7],\n",
       "         [1.5],\n",
       "         [1. ],\n",
       "         [1.1],\n",
       "         [1. ],\n",
       "         [1.2],\n",
       "         [1.6],\n",
       "         [1.5],\n",
       "         [1.6],\n",
       "         [1.5],\n",
       "         [1.3],\n",
       "         [1.3],\n",
       "         [1.3],\n",
       "         [1.2],\n",
       "         [1.4],\n",
       "         [1.2],\n",
       "         [1. ],\n",
       "         [1.3],\n",
       "         [1.2],\n",
       "         [1.3],\n",
       "         [1.3],\n",
       "         [1.1],\n",
       "         [1.3],\n",
       "         [2.5],\n",
       "         [1.9],\n",
       "         [2.1],\n",
       "         [1.8],\n",
       "         [2.2],\n",
       "         [2.1],\n",
       "         [1.7],\n",
       "         [1.8],\n",
       "         [1.8],\n",
       "         [2.5],\n",
       "         [2. ],\n",
       "         [1.9],\n",
       "         [2.1],\n",
       "         [2. ],\n",
       "         [2.4],\n",
       "         [2.3],\n",
       "         [1.8],\n",
       "         [2.2],\n",
       "         [2.3],\n",
       "         [1.5],\n",
       "         [2.3],\n",
       "         [2. ],\n",
       "         [2. ],\n",
       "         [1.8],\n",
       "         [2.1],\n",
       "         [1.8],\n",
       "         [1.8],\n",
       "         [1.8],\n",
       "         [2.1],\n",
       "         [1.6],\n",
       "         [1.9],\n",
       "         [2. ],\n",
       "         [2.2],\n",
       "         [1.5],\n",
       "         [1.4],\n",
       "         [2.3],\n",
       "         [2.4],\n",
       "         [1.8],\n",
       "         [1.8],\n",
       "         [2.1],\n",
       "         [2.4],\n",
       "         [2.3],\n",
       "         [1.9],\n",
       "         [2.3],\n",
       "         [2.5],\n",
       "         [2.3],\n",
       "         [1.9],\n",
       "         [2. ],\n",
       "         [2.3],\n",
       "         [1.8]]]])"
      ]
     },
     "execution_count": 38,
     "metadata": {},
     "output_type": "execute_result"
    }
   ],
   "source": [
    "r=np.array([[x,y]])\n",
    "r"
   ]
  },
  {
   "cell_type": "code",
   "execution_count": 39,
   "metadata": {},
   "outputs": [
    {
     "data": {
      "text/plain": [
       "<matplotlib.collections.PathCollection at 0x1900e771400>"
      ]
     },
     "execution_count": 39,
     "metadata": {},
     "output_type": "execute_result"
    },
    {
     "data": {
      "image/png": "[encoded data removed]",
      "text/plain": [
       "<Figure size 432x288 with 1 Axes>"
      ]
     },
     "metadata": {
      "needs_background": "light"
     },
     "output_type": "display_data"
    }
   ],
   "source": [
    "plt.scatter(r[:,0],r[:,1])"
   ]
  },
  {
   "cell_type": "code",
   "execution_count": 40,
   "metadata": {},
   "outputs": [
    {
     "data": {
      "text/plain": [
       "KMeans(n_clusters=3)"
      ]
     },
     "execution_count": 40,
     "metadata": {},
     "output_type": "execute_result"
    }
   ],
   "source": [
    "kmeans=KMeans(n_clusters=3)\n",
    "kmeans.fit(x)"
   ]
  },
  {
   "cell_type": "code",
   "execution_count": 41,
   "metadata": {},
   "outputs": [
    {
     "data": {
      "text/plain": [
       "array([[4.29074074],\n",
       "       [1.464     ],\n",
       "       [5.62826087]])"
      ]
     },
     "execution_count": 41,
     "metadata": {},
     "output_type": "execute_result"
    }
   ],
   "source": [
    "kmeans.cluster_centers_"
   ]
  },
  {
   "cell_type": "code",
   "execution_count": 42,
   "metadata": {},
   "outputs": [
    {
     "data": {
      "text/plain": [
       "array([1, 1, 1, 1, 1, 1, 1, 1, 1, 1, 1, 1, 1, 1, 1, 1, 1, 1, 1, 1, 1, 1,\n",
       "       1, 1, 1, 1, 1, 1, 1, 1, 1, 1, 1, 1, 1, 1, 1, 1, 1, 1, 1, 1, 1, 1,\n",
       "       1, 1, 1, 1, 1, 1, 0, 0, 0, 0, 0, 0, 0, 0, 0, 0, 0, 0, 0, 0, 0, 0,\n",
       "       0, 0, 0, 0, 0, 0, 0, 0, 0, 0, 0, 2, 0, 0, 0, 0, 0, 2, 0, 0, 0, 0,\n",
       "       0, 0, 0, 0, 0, 0, 0, 0, 0, 0, 0, 0, 2, 2, 2, 2, 2, 2, 0, 2, 2, 2,\n",
       "       2, 2, 2, 2, 2, 2, 2, 2, 2, 2, 2, 0, 2, 0, 2, 2, 0, 0, 2, 2, 2, 2,\n",
       "       2, 2, 2, 2, 2, 2, 0, 2, 2, 2, 2, 2, 2, 2, 2, 2, 2, 2])"
      ]
     },
     "execution_count": 42,
     "metadata": {},
     "output_type": "execute_result"
    }
   ],
   "source": [
    "kmeans.labels_"
   ]
  },
  {
   "cell_type": "code",
   "execution_count": 43,
   "metadata": {},
   "outputs": [
    {
     "data": {
      "text/plain": [
       "<matplotlib.collections.PathCollection at 0x1900e7befa0>"
      ]
     },
     "execution_count": 43,
     "metadata": {},
     "output_type": "execute_result"
    },
    {
     "data": {
      "image/png": "[encoded data removed]",
      "text/plain": [
       "<Figure size 432x288 with 1 Axes>"
      ]
     },
     "metadata": {
      "needs_background": "light"
     },
     "output_type": "display_data"
    }
   ],
   "source": [
    "plt.scatter(r[:,0],r[:,1], c=kmeans.labels_, cmap='rainbow')"
   ]
  }
 ],
 "metadata": {
  "kernelspec": {
   "display_name": "Python 3",
   "language": "python",
   "name": "python3"
  },
  "language_info": {
   "codemirror_mode": {
    "name": "ipython",
    "version": 3
   },
   "file_extension": ".py",
   "mimetype": "text/x-python",
   "name": "python",
   "nbconvert_exporter": "python",
   "pygments_lexer": "ipython3",
   "version": "3.8.3"
  }
 },
 "nbformat": 4,
 "nbformat_minor": 4
}
